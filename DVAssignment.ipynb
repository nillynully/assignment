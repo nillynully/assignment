{
 "cells": [
  {
   "cell_type": "code",
   "execution_count": 4,
   "metadata": {},
   "outputs": [],
   "source": [
    "import numpy as np\n",
    "import pandas as pd\n",
    "from datetime import datetime\n",
    "import matplotlib.pyplot as plt\n",
    "from plotly.offline import download_plotlyjs, init_notebook_mode, plot, iplot\n",
    "import requests\n",
    "import yfinance as yf"
   ]
  },
  {
   "cell_type": "code",
   "execution_count": 5,
   "metadata": {},
   "outputs": [],
   "source": [
    "import cufflinks as cf "
   ]
  },
  {
   "cell_type": "code",
   "execution_count": 6,
   "metadata": {},
   "outputs": [
    {
     "data": {
      "text/html": [
       "        <script type=\"text/javascript\">\n",
       "        window.PlotlyConfig = {MathJaxConfig: 'local'};\n",
       "        if (window.MathJax) {MathJax.Hub.Config({SVG: {font: \"STIX-Web\"}});}\n",
       "        if (typeof require !== 'undefined') {\n",
       "        require.undef(\"plotly\");\n",
       "        requirejs.config({\n",
       "            paths: {\n",
       "                'plotly': ['https://cdn.plot.ly/plotly-latest.min']\n",
       "            }\n",
       "        });\n",
       "        require(['plotly'], function(Plotly) {\n",
       "            window._Plotly = Plotly;\n",
       "        });\n",
       "        }\n",
       "        </script>\n",
       "        "
      ]
     },
     "metadata": {},
     "output_type": "display_data"
    },
    {
     "data": {
      "text/html": [
       "        <script type=\"text/javascript\">\n",
       "        window.PlotlyConfig = {MathJaxConfig: 'local'};\n",
       "        if (window.MathJax) {MathJax.Hub.Config({SVG: {font: \"STIX-Web\"}});}\n",
       "        if (typeof require !== 'undefined') {\n",
       "        require.undef(\"plotly\");\n",
       "        requirejs.config({\n",
       "            paths: {\n",
       "                'plotly': ['https://cdn.plot.ly/plotly-latest.min']\n",
       "            }\n",
       "        });\n",
       "        require(['plotly'], function(Plotly) {\n",
       "            window._Plotly = Plotly;\n",
       "        });\n",
       "        }\n",
       "        </script>\n",
       "        "
      ]
     },
     "metadata": {},
     "output_type": "display_data"
    }
   ],
   "source": [
    "init_notebook_mode(connected=True)\n",
    "cf.go_offline()"
   ]
  },
  {
   "cell_type": "code",
   "execution_count": 7,
   "metadata": {},
   "outputs": [
    {
     "data": {
      "text/plain": [
       "yfinance.Ticker object <AAPL>"
      ]
     },
     "execution_count": 7,
     "metadata": {},
     "output_type": "execute_result"
    }
   ],
   "source": [
    "aapl= yf.Ticker(\"aapl\")\n",
    "aapl"
   ]
  },
  {
   "cell_type": "code",
   "execution_count": 10,
   "metadata": {},
   "outputs": [
    {
     "data": {
      "text/html": [
       "<div>\n",
       "<style scoped>\n",
       "    .dataframe tbody tr th:only-of-type {\n",
       "        vertical-align: middle;\n",
       "    }\n",
       "\n",
       "    .dataframe tbody tr th {\n",
       "        vertical-align: top;\n",
       "    }\n",
       "\n",
       "    .dataframe thead th {\n",
       "        text-align: right;\n",
       "    }\n",
       "</style>\n",
       "<table border=\"1\" class=\"dataframe\">\n",
       "  <thead>\n",
       "    <tr style=\"text-align: right;\">\n",
       "      <th></th>\n",
       "      <th>Open</th>\n",
       "      <th>High</th>\n",
       "      <th>Low</th>\n",
       "      <th>Close</th>\n",
       "      <th>Volume</th>\n",
       "      <th>Dividends</th>\n",
       "      <th>Stock Splits</th>\n",
       "    </tr>\n",
       "    <tr>\n",
       "      <th>Date</th>\n",
       "      <th></th>\n",
       "      <th></th>\n",
       "      <th></th>\n",
       "      <th></th>\n",
       "      <th></th>\n",
       "      <th></th>\n",
       "      <th></th>\n",
       "    </tr>\n",
       "  </thead>\n",
       "  <tbody>\n",
       "    <tr>\n",
       "      <th>1980-12-08</th>\n",
       "      <td>0.100751</td>\n",
       "      <td>0.101189</td>\n",
       "      <td>0.100751</td>\n",
       "      <td>0.100751</td>\n",
       "      <td>469033600.0</td>\n",
       "      <td>0.0</td>\n",
       "      <td>0.0</td>\n",
       "    </tr>\n",
       "    <tr>\n",
       "      <th>1980-12-15</th>\n",
       "      <td>0.095933</td>\n",
       "      <td>0.099437</td>\n",
       "      <td>0.088485</td>\n",
       "      <td>0.098999</td>\n",
       "      <td>490134400.0</td>\n",
       "      <td>0.0</td>\n",
       "      <td>0.0</td>\n",
       "    </tr>\n",
       "    <tr>\n",
       "      <th>1980-12-22</th>\n",
       "      <td>0.103817</td>\n",
       "      <td>0.124843</td>\n",
       "      <td>0.103817</td>\n",
       "      <td>0.124405</td>\n",
       "      <td>187891200.0</td>\n",
       "      <td>0.0</td>\n",
       "      <td>0.0</td>\n",
       "    </tr>\n",
       "    <tr>\n",
       "      <th>1980-12-29</th>\n",
       "      <td>0.126158</td>\n",
       "      <td>0.126596</td>\n",
       "      <td>0.119587</td>\n",
       "      <td>0.120901</td>\n",
       "      <td>219452800.0</td>\n",
       "      <td>0.0</td>\n",
       "      <td>0.0</td>\n",
       "    </tr>\n",
       "    <tr>\n",
       "      <th>1981-01-05</th>\n",
       "      <td>0.118711</td>\n",
       "      <td>0.118711</td>\n",
       "      <td>0.106008</td>\n",
       "      <td>0.111702</td>\n",
       "      <td>197904000.0</td>\n",
       "      <td>0.0</td>\n",
       "      <td>0.0</td>\n",
       "    </tr>\n",
       "    <tr>\n",
       "      <th>...</th>\n",
       "      <td>...</td>\n",
       "      <td>...</td>\n",
       "      <td>...</td>\n",
       "      <td>...</td>\n",
       "      <td>...</td>\n",
       "      <td>...</td>\n",
       "      <td>...</td>\n",
       "    </tr>\n",
       "    <tr>\n",
       "      <th>2021-05-31</th>\n",
       "      <td>125.080002</td>\n",
       "      <td>126.160004</td>\n",
       "      <td>123.129997</td>\n",
       "      <td>125.889999</td>\n",
       "      <td>278314500.0</td>\n",
       "      <td>0.0</td>\n",
       "      <td>0.0</td>\n",
       "    </tr>\n",
       "    <tr>\n",
       "      <th>2021-06-07</th>\n",
       "      <td>126.169998</td>\n",
       "      <td>128.460007</td>\n",
       "      <td>124.830002</td>\n",
       "      <td>127.349998</td>\n",
       "      <td>327048100.0</td>\n",
       "      <td>0.0</td>\n",
       "      <td>0.0</td>\n",
       "    </tr>\n",
       "    <tr>\n",
       "      <th>2021-06-14</th>\n",
       "      <td>127.820000</td>\n",
       "      <td>132.550003</td>\n",
       "      <td>127.070000</td>\n",
       "      <td>130.460007</td>\n",
       "      <td>456976800.0</td>\n",
       "      <td>0.0</td>\n",
       "      <td>0.0</td>\n",
       "    </tr>\n",
       "    <tr>\n",
       "      <th>2021-06-21</th>\n",
       "      <td>130.300003</td>\n",
       "      <td>134.320007</td>\n",
       "      <td>129.210007</td>\n",
       "      <td>133.699997</td>\n",
       "      <td>214560600.0</td>\n",
       "      <td>0.0</td>\n",
       "      <td>0.0</td>\n",
       "    </tr>\n",
       "    <tr>\n",
       "      <th>2021-06-24</th>\n",
       "      <td>134.449997</td>\n",
       "      <td>134.639999</td>\n",
       "      <td>133.160004</td>\n",
       "      <td>133.554993</td>\n",
       "      <td>41388952.0</td>\n",
       "      <td>0.0</td>\n",
       "      <td>0.0</td>\n",
       "    </tr>\n",
       "  </tbody>\n",
       "</table>\n",
       "<p>2193 rows × 7 columns</p>\n",
       "</div>"
      ],
      "text/plain": [
       "                  Open        High         Low       Close       Volume  \\\n",
       "Date                                                                      \n",
       "1980-12-08    0.100751    0.101189    0.100751    0.100751  469033600.0   \n",
       "1980-12-15    0.095933    0.099437    0.088485    0.098999  490134400.0   \n",
       "1980-12-22    0.103817    0.124843    0.103817    0.124405  187891200.0   \n",
       "1980-12-29    0.126158    0.126596    0.119587    0.120901  219452800.0   \n",
       "1981-01-05    0.118711    0.118711    0.106008    0.111702  197904000.0   \n",
       "...                ...         ...         ...         ...          ...   \n",
       "2021-05-31  125.080002  126.160004  123.129997  125.889999  278314500.0   \n",
       "2021-06-07  126.169998  128.460007  124.830002  127.349998  327048100.0   \n",
       "2021-06-14  127.820000  132.550003  127.070000  130.460007  456976800.0   \n",
       "2021-06-21  130.300003  134.320007  129.210007  133.699997  214560600.0   \n",
       "2021-06-24  134.449997  134.639999  133.160004  133.554993   41388952.0   \n",
       "\n",
       "            Dividends  Stock Splits  \n",
       "Date                                 \n",
       "1980-12-08        0.0           0.0  \n",
       "1980-12-15        0.0           0.0  \n",
       "1980-12-22        0.0           0.0  \n",
       "1980-12-29        0.0           0.0  \n",
       "1981-01-05        0.0           0.0  \n",
       "...               ...           ...  \n",
       "2021-05-31        0.0           0.0  \n",
       "2021-06-07        0.0           0.0  \n",
       "2021-06-14        0.0           0.0  \n",
       "2021-06-21        0.0           0.0  \n",
       "2021-06-24        0.0           0.0  \n",
       "\n",
       "[2193 rows x 7 columns]"
      ]
     },
     "execution_count": 10,
     "metadata": {},
     "output_type": "execute_result"
    }
   ],
   "source": [
    "aapl_historical = aapl.history(period=\"max\", interval=\"1wk\")\n",
    "aapl_historical"
   ]
  },
  {
   "cell_type": "code",
   "execution_count": 11,
   "metadata": {},
   "outputs": [
    {
     "data": {
      "text/plain": [
       "<bound method _iplot of                   Open        High         Low       Close       Volume  \\\n",
       "Date                                                                      \n",
       "1980-12-08    0.100751    0.101189    0.100751    0.100751  469033600.0   \n",
       "1980-12-15    0.095933    0.099437    0.088485    0.098999  490134400.0   \n",
       "1980-12-22    0.103817    0.124843    0.103817    0.124405  187891200.0   \n",
       "1980-12-29    0.126158    0.126596    0.119587    0.120901  219452800.0   \n",
       "1981-01-05    0.118711    0.118711    0.106008    0.111702  197904000.0   \n",
       "...                ...         ...         ...         ...          ...   \n",
       "2021-05-31  125.080002  126.160004  123.129997  125.889999  278314500.0   \n",
       "2021-06-07  126.169998  128.460007  124.830002  127.349998  327048100.0   \n",
       "2021-06-14  127.820000  132.550003  127.070000  130.460007  456976800.0   \n",
       "2021-06-21  130.300003  134.320007  129.210007  133.699997  214560600.0   \n",
       "2021-06-24  134.449997  134.639999  133.160004  133.554993   41388952.0   \n",
       "\n",
       "            Dividends  Stock Splits  \n",
       "Date                                 \n",
       "1980-12-08        0.0           0.0  \n",
       "1980-12-15        0.0           0.0  \n",
       "1980-12-22        0.0           0.0  \n",
       "1980-12-29        0.0           0.0  \n",
       "1981-01-05        0.0           0.0  \n",
       "...               ...           ...  \n",
       "2021-05-31        0.0           0.0  \n",
       "2021-06-07        0.0           0.0  \n",
       "2021-06-14        0.0           0.0  \n",
       "2021-06-21        0.0           0.0  \n",
       "2021-06-24        0.0           0.0  \n",
       "\n",
       "[2193 rows x 7 columns]>"
      ]
     },
     "execution_count": 11,
     "metadata": {},
     "output_type": "execute_result"
    }
   ],
   "source": [
    "aapl_historical.iplot"
   ]
  },
  {
   "cell_type": "code",
   "execution_count": null,
   "metadata": {},
   "outputs": [],
   "source": []
  },
  {
   "cell_type": "code",
   "execution_count": null,
   "metadata": {},
   "outputs": [],
   "source": []
  },
  {
   "cell_type": "code",
   "execution_count": null,
   "metadata": {},
   "outputs": [],
   "source": []
  },
  {
   "cell_type": "code",
   "execution_count": null,
   "metadata": {},
   "outputs": [],
   "source": []
  },
  {
   "cell_type": "code",
   "execution_count": 12,
   "metadata": {},
   "outputs": [],
   "source": [
    "# RSI Formula\n",
    "def RSI(ohlc, period = 14, method = \"SMA\"):\n",
    "    delta = ohlc[\"Close\"].diff()\n",
    "    up, down = delta.copy(), delta.copy()\n",
    "    up[up < 0] = 0\n",
    "    down[down > 0] = 0\n",
    "    \n",
    "    if method == \"SMA\":\n",
    "        gain - up.rolling(period).mean()\n",
    "        loss = down.abs().rolling(period).mean()\n",
    "    else:\n",
    "        gain = up.ewm(span = period).mean()\n",
    "        loss = down.abs().ewm(span = period).mean()\n",
    "        \n",
    "    RS = gain/loss\n",
    "    ohlc[\"RSI\"] = pd.Series(100 - (100/(1+RS)), name =\"RSI\")\n",
    "    \n",
    "    return ohlc"
   ]
  },
  {
   "cell_type": "code",
   "execution_count": null,
   "metadata": {
    "scrolled": false
   },
   "outputs": [],
   "source": [
    "tickers = [\"FB\", \"AAPL\", \"AMZN\", \"IBM\", \"GOOGL\", \"MSFT\", \"NAV\", \"O\", \"QCOM\", \"TSLA\"]\n",
    "ticker_list = []\n",
    "stock_num = 1\n",
    "while True:\n",
    "    try:\n",
    "        num_stock = int(input(\"Enter number of stocks between 1 - 10: \"))\n",
    "    except ValueError:\n",
    "        print(\"Sorry, please only key in numbers\")\n",
    "    else:\n",
    "        break\n",
    "\n",
    "for i in tickers:\n",
    "    print(f\"Choose stock number {stock_num} from following stocks. \\n {([i for i in tickers if i not in ticker_list])}\")\n",
    "    print()\n",
    "    in_2 = input(\"Enter your stock: \")\n",
    "    print()\n",
    "    ticker_list.append(in_2)\n",
    "    \n",
    "    if stock_num == int(num_stock):\n",
    "        choice_1 = input(\"Please indicate whether you would like to use the EWMA or SMA to compute the RSI Value: \")\n",
    "        choice_2 = input(\"Please enter the Moving Window range: \")\n",
    "        choice_3 = input(\"Please enter start date for the chart between 2010-01-01 and 2017-12-31, in YYYY-MM-DD format here: \")\n",
    "        choice_4 = input(\"Please enter end date for the chart between 2010-01-01 and 2017-12-31, in YYYY-MM-DD format here: \")\n",
    "        dt = datetime.strptime(choice_3,\"%Y-%m-%d\")\n",
    "        start_date = int(round(dt.timestamp()))\n",
    "        dt1 = datetime.strptime(choice_4,\"%Y-%m-%d\")\n",
    "        end_date = int(round(dt1.timestamp()))\n",
    "        \n",
    "        for i in ticker_list:\n",
    "            df = yf.download({ticker_list}, start = start_date, end = end_date)\n",
    "            \n",
    "        \n",
    "    \n",
    "        \n",
    "\n",
    "        \n",
    "       \n"
   ]
  },
  {
   "cell_type": "code",
   "execution_count": null,
   "metadata": {},
   "outputs": [],
   "source": [
    "new_columns = [\"Tickers\", \"RSI\"] \n",
    "final_dataframe = pd.DataFrame(columns = new_columns)\n",
    "final_dataframe\n"
   ]
  },
  {
   "cell_type": "code",
   "execution_count": null,
   "metadata": {},
   "outputs": [],
   "source": [
    "tickers = [\"FB\", \"AAPL\", \"AMZN\", \"IBM\", \"GOOGL\", \"MSFT\", \"NAV\", \"O\", \"QCOM\", \"TSLA\"]\n",
    "\n",
    "url = \"https://apidojo-yahoo-finance-v1.p.rapidapi.com/stock/v3/get-historical-data\"\n",
    "\n",
    "querystring = {\"symbol\":\"FB\"}\n",
    "\n",
    "headers = {\n",
    "    'x-rapidapi-key': \"3ce5bf2bf3mshfaf1906b19b78c4p1e60e7jsn33601bc0e1b9\",\n",
    "    'x-rapidapi-host': \"apidojo-yahoo-finance-v1.p.rapidapi.com\"\n",
    "    }\n",
    "\n",
    "response = requests.request(\"GET\", url, headers=headers, params=querystring)\n",
    "\n",
    "print(response.text)"
   ]
  },
  {
   "cell_type": "markdown",
   "metadata": {},
   "source": []
  }
 ],
 "metadata": {
  "kernelspec": {
   "display_name": "Python 3",
   "language": "python",
   "name": "python3"
  },
  "language_info": {
   "codemirror_mode": {
    "name": "ipython",
    "version": 3
   },
   "file_extension": ".py",
   "mimetype": "text/x-python",
   "name": "python",
   "nbconvert_exporter": "python",
   "pygments_lexer": "ipython3",
   "version": "3.8.5"
  }
 },
 "nbformat": 4,
 "nbformat_minor": 4
}
